{
 "cells": [
  {
   "cell_type": "markdown",
   "id": "0bd6f14a",
   "metadata": {},
   "source": [
    "# scikit-learn \n",
    "- Classification\n",
    "    - Supervised learning : 정답이 있는 결과를 맞출 때 > Classification, Regression\n",
    "    - UnSupervised learning : 정답이 없는 결과를 맞출 때 > Clustering 등\n",
    "- Regression\n"
   ]
  },
  {
   "cell_type": "markdown",
   "id": "e879bf9e",
   "metadata": {},
   "source": [
    "- 사이킷 런이란 ?\n",
    "    - 사이킷런은 대표적인 파이썬 머신러닝 라이브러리\n",
    "    - 머신러닝 알고리즘은 조리도구와 같다 알고리즘을 통해서 데이터를 요리한다고 보면 된다.\n",
    "\n",
    "- 머신러닝 문제\n",
    "    - 크게는 정답이 있는 문제인 Supervised learning(지도학습)과 Clustering(클러스터링), Dimensionality reduction(차원 축소)  \n",
    "    같은 문제를 해결하는 Unsupervised learning(비지도 학습)으로 나뉜다."
   ]
  },
  {
   "cell_type": "code",
   "execution_count": null,
   "id": "49081a13",
   "metadata": {},
   "outputs": [],
   "source": []
  }
 ],
 "metadata": {
  "kernelspec": {
   "display_name": "Python 3 (ipykernel)",
   "language": "python",
   "name": "python3"
  },
  "language_info": {
   "codemirror_mode": {
    "name": "ipython",
    "version": 3
   },
   "file_extension": ".py",
   "mimetype": "text/x-python",
   "name": "python",
   "nbconvert_exporter": "python",
   "pygments_lexer": "ipython3",
   "version": "3.9.7"
  }
 },
 "nbformat": 4,
 "nbformat_minor": 5
}
